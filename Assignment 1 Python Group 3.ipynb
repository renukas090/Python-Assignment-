{
 "cells": [
  {
   "cell_type": "markdown",
   "metadata": {},
   "source": [
    "# Ques 1 .Write a python function to identify whether the number passed is odd or even."
   ]
  },
  {
   "cell_type": "code",
   "execution_count": 1,
   "metadata": {},
   "outputs": [
    {
     "name": "stdout",
     "output_type": "stream",
     "text": [
      "Enter the number: 6\n",
      "Given number is even\n"
     ]
    }
   ],
   "source": [
    "def find(num):\n",
    "    # code logic here\n",
    "    if num%2 == 0:\n",
    "        numtype=\"even\"\n",
    "    else:\n",
    "        numtype = \"odd\"\n",
    "    return numtype\n",
    "\n",
    "num = int(input('Enter the number: '))  # 1. take your input\n",
    "                    \n",
    "print(\"Given number is\", find(num))# 2. call the find function and print result\n"
   ]
  },
  {
   "cell_type": "markdown",
   "metadata": {},
   "source": [
    "# Ques 2. Write a python function to calculate factorial."
   ]
  },
  {
   "cell_type": "code",
   "execution_count": 2,
   "metadata": {},
   "outputs": [
    {
     "name": "stdout",
     "output_type": "stream",
     "text": [
      " Please enter any Integer : 45\n",
      "119622220865480194561963161495657715064383733760000000000\n"
     ]
    }
   ],
   "source": [
    "import math \n",
    "\n",
    "NUM = int(input(\" Please enter any Integer : \"))\n",
    "\n",
    "fact_Num = math.factorial(NUM)\n",
    "print(fact_Num)"
   ]
  },
  {
   "cell_type": "markdown",
   "metadata": {},
   "source": [
    "# Ques 3. Write a python function to check whether a string is pallindrome.\n"
   ]
  },
  {
   "cell_type": "code",
   "execution_count": 8,
   "metadata": {},
   "outputs": [
    {
     "name": "stdout",
     "output_type": "stream",
     "text": [
      "Please enter your own Text : aabbcc\n",
      "ccbbaa\n"
     ]
    }
   ],
   "source": [
    "string = input(\"Please enter your own Text : \")\n",
    "str = \"\"\n",
    "\n",
    "for i in string:\n",
    "    str = i + str\n",
    "print(str)"
   ]
  },
  {
   "cell_type": "markdown",
   "metadata": {},
   "source": [
    "# Ques 4. Write a python function to identify whether the input number is prime or not"
   ]
  },
  {
   "cell_type": "code",
   "execution_count": 9,
   "metadata": {},
   "outputs": [
    {
     "name": "stdout",
     "output_type": "stream",
     "text": [
      "Enter a number 10\n",
      "10 is not a prime number\n"
     ]
    }
   ],
   "source": [
    "n=input(\"Enter a number \")\n",
    "\n",
    "n=int(n)\n",
    "\n",
    "flag=0\n",
    "\n",
    "for i in range(2,n):\n",
    "\n",
    "    if n%i==0:\n",
    "\n",
    "        flag=1\n",
    "\n",
    "        print(\"%d is not a prime number\"%n)\n",
    "\n",
    "        break\n",
    "\n",
    "if flag==0:\n",
    "\n",
    "    print(\"%d is a prime number\"%n)"
   ]
  },
  {
   "cell_type": "markdown",
   "metadata": {},
   "source": [
    "# Question 5. Write a program to print following design\n",
    "                              *\n",
    "                             ***\n",
    "                           *****\n",
    "                         *******\n",
    "                       **********"
   ]
  },
  {
   "cell_type": "code",
   "execution_count": 18,
   "metadata": {},
   "outputs": [
    {
     "name": "stdout",
     "output_type": "stream",
     "text": [
      "    *\n",
      "   ***\n",
      "  *****\n",
      " *******\n",
      "*********\n"
     ]
    }
   ],
   "source": [
    "n = 5\n",
    "for i in range(n):\n",
    "    for j in range(n - i - 1):\n",
    "        print(' ', end='')\n",
    "    for k in range(2 * i + 1):\n",
    "        print('*', end='')\n",
    "    print()"
   ]
  },
  {
   "cell_type": "markdown",
   "metadata": {},
   "source": [
    "# Ques 6. Write a Python program to find a reverse of a number. "
   ]
  },
  {
   "cell_type": "code",
   "execution_count": 19,
   "metadata": {},
   "outputs": [
    {
     "name": "stdout",
     "output_type": "stream",
     "text": [
      "Please provide the number to be reversed: 12345\n",
      "Reverse of the provided number is = 54321\n"
     ]
    }
   ],
   "source": [
    "n = int(input(\"Please provide the number to be reversed: \"))\n",
    "rn = 0\n",
    "while(n > 0):\n",
    " Reminder = n %10\n",
    " rn = (rn *10) + Reminder\n",
    " n = n//10\n",
    "print(\"Reverse of the provided number is = %d\" %rn)"
   ]
  },
  {
   "cell_type": "markdown",
   "metadata": {},
   "source": [
    "# Ques 7.Write a Python program to find a square root of a number. "
   ]
  },
  {
   "cell_type": "code",
   "execution_count": 29,
   "metadata": {},
   "outputs": [
    {
     "name": "stdout",
     "output_type": "stream",
     "text": [
      "Enter a number = 25\n",
      "Square root of Enter number  is = 5\n"
     ]
    }
   ],
   "source": [
    "num = int(input(\"Enter a number = \"))\n",
    "\n",
    "if num>0:\n",
    "    sqrt = num ** 0.5\n",
    "    print(\"Square root of Enter number  is = %d\" %sqrt )\n",
    "else:\n",
    "    print(\"Invalid number\")"
   ]
  },
  {
   "cell_type": "markdown",
   "metadata": {},
   "source": [
    "# Ques 8.Write a Python program to find Area of a Triangle. "
   ]
  },
  {
   "cell_type": "code",
   "execution_count": 36,
   "metadata": {},
   "outputs": [
    {
     "name": "stdout",
     "output_type": "stream",
     "text": [
      "Enter the length of first side: 3\n",
      "Enter  the length of second side: 9\n",
      "Enter  the length of third side: 7\n",
      "The area of the triangle is 8.79\n"
     ]
    }
   ],
   "source": [
    "a = float(input('Enter the length of first side: '))  \n",
    "b = float(input('Enter  the length of second side: '))  \n",
    "c = float(input('Enter  the length of third side: '))  \n",
    "s = (a + b + c) / 2  \n",
    "Area = (s*(s-a)*(s-b)*(s-c)) ** 0.5  \n",
    "print('The area of the triangle is %0.2f' %Area)\n"
   ]
  },
  {
   "cell_type": "markdown",
   "metadata": {},
   "source": [
    "# Ques 9.Show swapping of two numbers using Python programming. "
   ]
  },
  {
   "cell_type": "code",
   "execution_count": 37,
   "metadata": {},
   "outputs": [
    {
     "name": "stdout",
     "output_type": "stream",
     "text": [
      " Please Enter the First number : 5\n",
      " Please Enter the Second number : 7\n",
      "Before Swapping two Number (5, 7)\n",
      "After Swapping two Number (7, 5)\n"
     ]
    }
   ],
   "source": [
    "def swapnumbers(a, b):\n",
    "    temp = a\n",
    "    a = b\n",
    "    b = temp\n",
    "    print(\"After Swapping two Number\",(a, b))\n",
    "number1 = int(input(\" Please Enter the First number : \"))\n",
    "number2 = int(input(\" Please Enter the Second number : \"))\n",
    "print(\"Before Swapping two Number\",(number1, number2))\n",
    "swapnumbers(number1, number2)"
   ]
  },
  {
   "cell_type": "markdown",
   "metadata": {},
   "source": [
    "# Ques 10.Write a Python program to show the following conversions:\n",
    "                    a) Kilometers to miles\n",
    "                    b) Celsius to Fahrenheit"
   ]
  },
  {
   "cell_type": "code",
   "execution_count": 39,
   "metadata": {},
   "outputs": [
    {
     "name": "stdout",
     "output_type": "stream",
     "text": [
      "Enter the Kilometers = 486\n",
      "486.00 Kilometers equals 301.9863 Miles\n"
     ]
    }
   ],
   "source": [
    "kilometers = float(input(\"Enter the Kilometers = \"))\n",
    " \n",
    "miles = kilometers * 0.621371\n",
    " \n",
    "print(\"%.2f Kilometers equals %.4f Miles\" %(kilometers, miles))"
   ]
  },
  {
   "cell_type": "code",
   "execution_count": 41,
   "metadata": {},
   "outputs": [
    {
     "name": "stdout",
     "output_type": "stream",
     "text": [
      "Enter Temperature in Celsius: \n",
      "37\n",
      "\n",
      "Equivalent Value in Fahrenheit =  98.60000000000001\n"
     ]
    }
   ],
   "source": [
    "print(\"Enter Temperature in Celsius: \")\n",
    "cel = float(input())\n",
    "\n",
    "fah = (cel*1.8)+32\n",
    "print(\"\\nEquivalent Value in Fahrenheit = \", fah)"
   ]
  },
  {
   "cell_type": "markdown",
   "metadata": {},
   "source": [
    "# Ques 11.Write a progrm to check whether a number is even or odd using a Python code. "
   ]
  },
  {
   "cell_type": "code",
   "execution_count": 42,
   "metadata": {},
   "outputs": [
    {
     "name": "stdout",
     "output_type": "stream",
     "text": [
      "Enter any number: 6\n",
      "6 is even\n"
     ]
    }
   ],
   "source": [
    "n = int(input(\"Enter any number: \"))\n",
    "if (n % 2) == 0:\n",
    "   print(n, 'is even' )\n",
    "else:\n",
    "   print(n, 'is odd')"
   ]
  },
  {
   "cell_type": "markdown",
   "metadata": {},
   "source": [
    "# Ques 12.Write a code in Python to check whether a number is prime or not."
   ]
  },
  {
   "cell_type": "code",
   "execution_count": 64,
   "metadata": {},
   "outputs": [
    {
     "name": "stdout",
     "output_type": "stream",
     "text": [
      "Enter any number: 6\n",
      "6 is not a prime number\n"
     ]
    }
   ],
   "source": [
    "n = int(input(\"Enter any number: \"))\n",
    "if n > 1:\n",
    "    for i in range(2, int(n/2)+1):\n",
    "        if (n % i) == 0:\n",
    "             print(num, \"is not a prime number\")\n",
    "        break\n",
    "    else:\n",
    "            print(n, \"is a prime number\")\n",
    "# If the number is less than 1, its also not a prime number.\n",
    "else:\n",
    "    print(n, \"is not a prime number\")"
   ]
  },
  {
   "cell_type": "markdown",
   "metadata": {},
   "source": [
    "# Ques 13. Write a Python code to find transpose of a 3 by 3 matrix"
   ]
  },
  {
   "cell_type": "code",
   "execution_count": 65,
   "metadata": {},
   "outputs": [
    {
     "name": "stdout",
     "output_type": "stream",
     "text": [
      "[12, 4, 3]\n",
      "[7, 5, 8]\n",
      "[5, 6, 3]\n"
     ]
    }
   ],
   "source": [
    "X = [[12,7,5],\n",
    "    [4 ,5,6],\n",
    "    [3 ,8,3]]\n",
    "\n",
    "result = [[0,0,0],\n",
    "         [0 ,0,0],\n",
    "         [0 ,0,0]]\n",
    "\n",
    "# iterate through rows\n",
    "for i in range(len(X)):\n",
    "   # iterate through columns\n",
    "   for j in range(len(X[0])):\n",
    "       result[j][i] = X[i][j]\n",
    "\n",
    "for r in result:\n",
    "   print(r)"
   ]
  },
  {
   "cell_type": "markdown",
   "metadata": {},
   "source": [
    "# Ques 14.Write a Python code to convert a decimal number to a binary number."
   ]
  },
  {
   "cell_type": "code",
   "execution_count": 67,
   "metadata": {},
   "outputs": [
    {
     "name": "stdout",
     "output_type": "stream",
     "text": [
      "Please Enter the Decimal Number = 15\n",
      "15  Decimal =  0b1111 Binary Value\n"
     ]
    }
   ],
   "source": [
    "decimal = int(input(\"Please Enter the Decimal Number = \"))\n",
    "\n",
    "binary = bin(decimal)\n",
    "print(decimal, \" Decimal = \", binary, \"Binary Value\")"
   ]
  },
  {
   "cell_type": "markdown",
   "metadata": {},
   "source": [
    "# Ques 15.Write a code in Python to find greatest of the three numbers.  "
   ]
  },
  {
   "cell_type": "code",
   "execution_count": 68,
   "metadata": {},
   "outputs": [
    {
     "name": "stdout",
     "output_type": "stream",
     "text": [
      "enter 1st number: 8\n",
      "enter 2nd number: 9\n",
      "enter 3rd number: 1\n",
      "the largest number=  9.0\n"
     ]
    }
   ],
   "source": [
    "num1 = float(input(\"enter 1st number: \"))\n",
    "num2 = float(input(\"enter 2nd number: \"))\n",
    "num3 = float(input(\"enter 3rd number: \"))\n",
    "\n",
    "if (num1 > num2) and (num1 > num3):\n",
    "   largest_num = num1\n",
    "elif (num2 > num1) and (num2 > num3):\n",
    "   largest_num = num2\n",
    "else:\n",
    "   largest_num = num3\n",
    "print(\"the largest number= \", largest_num)"
   ]
  },
  {
   "cell_type": "markdown",
   "metadata": {},
   "source": [
    "# Ques 16. Write a Python program to check whether a number is an armstrong or not."
   ]
  },
  {
   "cell_type": "code",
   "execution_count": 70,
   "metadata": {},
   "outputs": [
    {
     "name": "stdout",
     "output_type": "stream",
     "text": [
      "Enter a number: 407\n",
      "407 is an Armstrong number\n"
     ]
    }
   ],
   "source": [
    "num = int(input(\"Enter a number: \"))\n",
    "\n",
    "# initialize sum\n",
    "sum = 0\n",
    "\n",
    "# find the sum of the cube of each digit\n",
    "temp = num\n",
    "while temp > 0:\n",
    "   digit = temp % 10\n",
    "   sum += digit ** 3\n",
    "   temp //= 10\n",
    "\n",
    "# display the result\n",
    "if num == sum:\n",
    "   print(num,\"is an Armstrong number\")\n",
    "else:\n",
    "   print(num,\"is not an Armstrong number\")"
   ]
  },
  {
   "cell_type": "markdown",
   "metadata": {},
   "source": [
    "# Ques 17. Write a Python program to know whether a sub string exists in main string or not. "
   ]
  },
  {
   "cell_type": "code",
   "execution_count": 71,
   "metadata": {},
   "outputs": [
    {
     "name": "stdout",
     "output_type": "stream",
     "text": [
      "Does  Study  exist in  StudyTonight ?\n",
      "Yes\n"
     ]
    }
   ],
   "source": [
    "string=\"StudyTonight\"\n",
    "substring=\"Study\"\n",
    "\n",
    "print(\"Does \",substring,\" exist in \",string,\"?\")\n",
    "\n",
    "# variable to store value returned by find()\n",
    "v= string.find(substring)\n",
    "if v>=0:\n",
    "    print(\"Yes\")\n",
    "else:\n",
    "    print(\"False\")"
   ]
  },
  {
   "cell_type": "markdown",
   "metadata": {},
   "source": [
    "# Ques 18.Write a Python  program to find maximum and minimum elements in a list of elements. "
   ]
  },
  {
   "cell_type": "code",
   "execution_count": 72,
   "metadata": {},
   "outputs": [
    {
     "name": "stdout",
     "output_type": "stream",
     "text": [
      "Please enter element length in list 5\n",
      "Please enter the Value of 1 Element : 500\n",
      "Please enter the Value of 2 Element : 200\n",
      "Please enter the Value of 3 Element : 600\n",
      "Please enter the Value of 4 Element : 10000\n",
      "Please enter the Value of 5 Element : 100\n",
      "The Smallest Element in this List is :  100\n",
      "The Largest Element in this List is :  10000\n"
     ]
    }
   ],
   "source": [
    "NumList = []\n",
    "Number = int(input(\"Please enter element length in list \"))\n",
    "for i in range(1, Number + 1):\n",
    "    value = int(input(\"Please enter the Value of %d Element : \" %i))\n",
    "    NumList.append(value)\n",
    " \n",
    "print(\"The Smallest Element in this List is : \", min(NumList))\n",
    "print(\"The Largest Element in this List is : \", max(NumList))"
   ]
  },
  {
   "cell_type": "markdown",
   "metadata": {},
   "source": [
    "# Ques 19. Write a Python program to find common elements in two lists."
   ]
  },
  {
   "cell_type": "code",
   "execution_count": 74,
   "metadata": {},
   "outputs": [
    {
     "name": "stdout",
     "output_type": "stream",
     "text": [
      "{'White', 'Green'}\n"
     ]
    }
   ],
   "source": [
    "color1 = \"Red\", \"Green\", \"Orange\", \"White\"\n",
    "color2 = \"Black\", \"Green\", \"White\", \"Pink\"\n",
    "print(set(color1) & set(color2))"
   ]
  },
  {
   "cell_type": "markdown",
   "metadata": {},
   "source": [
    "# Ques 20. Write a Python program to add two matrices. "
   ]
  },
  {
   "cell_type": "code",
   "execution_count": 75,
   "metadata": {},
   "outputs": [
    {
     "name": "stdout",
     "output_type": "stream",
     "text": [
      "[17, 15, 4]\n",
      "[10, 12, 9]\n",
      "[11, 13, 18]\n"
     ]
    }
   ],
   "source": [
    "X = [[12,7,3],\n",
    "    [4 ,5,6],\n",
    "    [7 ,8,9]]\n",
    "\n",
    "Y = [[5,8,1],\n",
    "    [6,7,3],\n",
    "    [4,5,9]]\n",
    "\n",
    "result = [[0,0,0],\n",
    "         [0,0,0],\n",
    "         [0,0,0]]\n",
    "\n",
    "# iterate through rows\n",
    "for i in range(len(X)):\n",
    "   # iterate through columns\n",
    "   for j in range(len(X[0])):\n",
    "       result[i][j] = X[i][j] + Y[i][j]\n",
    "\n",
    "for r in result:\n",
    "   print(r)"
   ]
  },
  {
   "cell_type": "markdown",
   "metadata": {},
   "source": [
    "# Ques 21.Print a mathematical table for any number using Python code."
   ]
  },
  {
   "cell_type": "code",
   "execution_count": 76,
   "metadata": {},
   "outputs": [
    {
     "name": "stdout",
     "output_type": "stream",
     "text": [
      "Display multiplication table of? 2\n",
      "2 x 1 = 2\n",
      "2 x 2 = 4\n",
      "2 x 3 = 6\n",
      "2 x 4 = 8\n",
      "2 x 5 = 10\n",
      "2 x 6 = 12\n",
      "2 x 7 = 14\n",
      "2 x 8 = 16\n",
      "2 x 9 = 18\n",
      "2 x 10 = 20\n"
     ]
    }
   ],
   "source": [
    "num = int(input(\"Display multiplication table of? \"))\n",
    "\n",
    "# Iterate 10 times from i = 1 to 10\n",
    "for i in range(1, 11):\n",
    "   print(num, 'x', i, '=', num*i)"
   ]
  },
  {
   "cell_type": "markdown",
   "metadata": {},
   "source": [
    "# Ques 22. Find area for equilateral triangle using Python code. "
   ]
  },
  {
   "cell_type": "code",
   "execution_count": 77,
   "metadata": {},
   "outputs": [
    {
     "name": "stdout",
     "output_type": "stream",
     "text": [
      "Please Enter Length of any side of an Equilateral Triangle: 4\n",
      "\n",
      " Area of Equilateral Triangle = 6.93\n"
     ]
    }
   ],
   "source": [
    "import math\n",
    "\n",
    "side = float(input('Please Enter Length of any side of an Equilateral Triangle: '))\n",
    "\n",
    "# calculate the area\n",
    "Area = (math.sqrt(3)/ 4)*(side * side)\n",
    "\n",
    "print(\"\\n Area of Equilateral Triangle = %.2f\" %Area)"
   ]
  },
  {
   "cell_type": "markdown",
   "metadata": {},
   "source": [
    "# Ques 23. Make a Python progarm to find the number of occurences of each letter in a string using dictionary. "
   ]
  },
  {
   "cell_type": "code",
   "execution_count": 81,
   "metadata": {},
   "outputs": [
    {
     "name": "stdout",
     "output_type": "stream",
     "text": [
      "The input string is: Pythonforbeginners is a great source to get started with Python.\n",
      "Count of characters is:\n",
      "{'w': 1, 'e': 6, 'c': 1, 'f': 1, 't': 8, 'i': 3, 'b': 1, 'n': 4, 'h': 3, 'o': 5, 'd': 1, 'a': 3, 'g': 3, 's': 4, 'r': 5, 'P': 2, '.': 1, 'y': 2, 'u': 1, ' ': 9}\n"
     ]
    }
   ],
   "source": [
    "input_string = \"Pythonforbeginners is a great source to get started with Python.\"\n",
    "print(\"The input string is:\", input_string)\n",
    "mySet = set(input_string)\n",
    "countOfChars = dict()\n",
    "for element in mySet:\n",
    "    countOfChar = 0\n",
    "    for character in input_string:\n",
    "        if character == element:\n",
    "            countOfChar += 1\n",
    "    countOfChars[element] = countOfChar\n",
    "print(\"Count of characters is:\")\n",
    "print(countOfChars)"
   ]
  },
  {
   "cell_type": "markdown",
   "metadata": {},
   "source": [
    "# Ques 24.  Write a program to count the number of vowels occuring in a string. "
   ]
  },
  {
   "cell_type": "code",
   "execution_count": 83,
   "metadata": {},
   "outputs": [
    {
     "name": "stdout",
     "output_type": "stream",
     "text": [
      "Please Enter Your Own String : we are in hury\n",
      "Total Number of Vowels in this String =  5\n"
     ]
    }
   ],
   "source": [
    "str1 = input(\"Please Enter Your Own String : \")\n",
    "vowels = 0\n",
    " \n",
    "for i in str1:\n",
    "    if(i == 'a' or i == 'e' or i == 'i' or i == 'o' or i == 'u' or i == 'A'\n",
    "       or i == 'E' or i == 'I' or i == 'O' or i == 'U'):\n",
    "        vowels = vowels + 1\n",
    " \n",
    "print(\"Total Number of Vowels in this String = \", vowels)"
   ]
  },
  {
   "cell_type": "markdown",
   "metadata": {},
   "source": [
    "# Ques 25. Write a Python code to display characters of a string using for loop."
   ]
  },
  {
   "cell_type": "code",
   "execution_count": 84,
   "metadata": {},
   "outputs": [
    {
     "name": "stdout",
     "output_type": "stream",
     "text": [
      "Please Enter your Own String : we are in \n",
      "The Character at 0 Index Position = w\n",
      "The Character at 1 Index Position = e\n",
      "The Character at 2 Index Position =  \n",
      "The Character at 3 Index Position = a\n",
      "The Character at 4 Index Position = r\n",
      "The Character at 5 Index Position = e\n",
      "The Character at 6 Index Position =  \n",
      "The Character at 7 Index Position = i\n",
      "The Character at 8 Index Position = n\n",
      "The Character at 9 Index Position =  \n"
     ]
    }
   ],
   "source": [
    "str1 = input(\"Please Enter your Own String : \")\n",
    " \n",
    "for i in range(len(str1)):\n",
    "    print(\"The Character at %d Index Position = %c\" %(i, str1[i]))"
   ]
  },
  {
   "cell_type": "code",
   "execution_count": null,
   "metadata": {},
   "outputs": [],
   "source": []
  }
 ],
 "metadata": {
  "kernelspec": {
   "display_name": "Python 3",
   "language": "python",
   "name": "python3"
  },
  "language_info": {
   "codemirror_mode": {
    "name": "ipython",
    "version": 3
   },
   "file_extension": ".py",
   "mimetype": "text/x-python",
   "name": "python",
   "nbconvert_exporter": "python",
   "pygments_lexer": "ipython3",
   "version": "3.6.5"
  }
 },
 "nbformat": 4,
 "nbformat_minor": 5
}
