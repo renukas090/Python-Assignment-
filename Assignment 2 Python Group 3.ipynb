{
 "cells": [
  {
   "cell_type": "markdown",
   "metadata": {},
   "source": [
    "# 1. Write a function that inputs a number and prints the multiplication table of that number.\n"
   ]
  },
  {
   "cell_type": "code",
   "execution_count": 13,
   "metadata": {},
   "outputs": [
    {
     "name": "stdout",
     "output_type": "stream",
     "text": [
      "Multiplication table of 5 :\n",
      "5 * 1 = 5\n",
      "5 * 2 = 10\n",
      "5 * 3 = 15\n",
      "5 * 4 = 20\n",
      "5 * 5 = 25\n",
      "5 * 6 = 30\n",
      "5 * 7 = 35\n",
      "5 * 8 = 40\n",
      "5 * 9 = 45\n",
      "5 * 10 = 50\n",
      "5 * 11 = 55\n",
      "5 * 12 = 60\n",
      "5 * 13 = 65\n",
      "5 * 14 = 70\n",
      "5 * 15 = 75\n",
      "5 * 16 = 80\n",
      "5 * 17 = 85\n",
      "5 * 18 = 90\n",
      "5 * 19 = 95\n",
      "5 * 20 = 100\n"
     ]
    }
   ],
   "source": [
    "def Table(n):\n",
    "    print('Multiplication table of', n,':')\n",
    "    for i in range(1,21):\n",
    "        print(n,'*',i,'=',n*i)\n",
    "Table(5)"
   ]
  },
  {
   "cell_type": "markdown",
   "metadata": {},
   "source": [
    "# 2. Write a program to print twin primes less than 1000. If two consecutive odd numbers are both prime then they are known as twin primes "
   ]
  },
  {
   "cell_type": "code",
   "execution_count": 14,
   "metadata": {},
   "outputs": [
    {
     "name": "stdout",
     "output_type": "stream",
     "text": [
      "3 and 5\n",
      "5 and 7\n",
      "11 and 13\n",
      "17 and 19\n",
      "29 and 31\n",
      "41 and 43\n",
      "59 and 61\n",
      "71 and 73\n",
      "101 and 103\n",
      "107 and 109\n",
      "137 and 139\n",
      "149 and 151\n",
      "179 and 181\n",
      "191 and 193\n",
      "197 and 199\n",
      "227 and 229\n",
      "239 and 241\n",
      "269 and 271\n",
      "281 and 283\n",
      "311 and 313\n",
      "347 and 349\n",
      "419 and 421\n",
      "431 and 433\n",
      "461 and 463\n",
      "521 and 523\n",
      "569 and 571\n",
      "599 and 601\n",
      "617 and 619\n",
      "641 and 643\n",
      "659 and 661\n",
      "809 and 811\n",
      "821 and 823\n",
      "827 and 829\n",
      "857 and 859\n",
      "881 and 883\n"
     ]
    }
   ],
   "source": [
    "def prime(n):\n",
    "    for i in range(2,n):\n",
    "        if(n%i==0):\n",
    "            return False\n",
    "    return True\n",
    "    \n",
    "def twins(x):\n",
    "    for i in range(2,x):\n",
    "        j = i+2\n",
    "        if(prime(i) and prime(j)):\n",
    "            print (i,'and',j)\n",
    "twins(1000)"
   ]
  },
  {
   "cell_type": "markdown",
   "metadata": {},
   "source": [
    "# 3. Write a program to find out the prime factors of a number. Example: prime factors of 56 - 2, 2, 2, 7\n"
   ]
  },
  {
   "cell_type": "code",
   "execution_count": 4,
   "metadata": {},
   "outputs": [
    {
     "name": "stdout",
     "output_type": "stream",
     "text": [
      " Please Enter any Number: 56\n",
      " 2 is a Prime Factor of a Given Number 56\n",
      " 7 is a Prime Factor of a Given Number 56\n"
     ]
    }
   ],
   "source": [
    "Number = int(input(\" Please Enter any Number: \"))\n",
    "\n",
    "for i in range(2, Number + 1):\n",
    "    if(Number % i == 0):\n",
    "        isprime = 1\n",
    "        for j in range(2, (i //2 + 1)):\n",
    "            if(i % j == 0):\n",
    "                isprime = 0\n",
    "                break\n",
    "            \n",
    "        if (isprime == 1):\n",
    "            print(\" %d is a Prime Factor of a Given Number %d\" %(i, Number))\n"
   ]
  },
  {
   "cell_type": "markdown",
   "metadata": {},
   "source": [
    "# 4. Write a program to implement these formulae of permutations and combinations.\n",
    "Number of permutations of n objects taken r at a time: p(n, r) = n! / (n-r)!. Number of\n",
    "combinations of n objects taken r at a time is: c(n, r) = n! / (r!*(n-r)!) = p(n,r) / r!"
   ]
  },
  {
   "cell_type": "code",
   "execution_count": 15,
   "metadata": {},
   "outputs": [
    {
     "name": "stdout",
     "output_type": "stream",
     "text": [
      "120.0\n",
      "36.0\n"
     ]
    }
   ],
   "source": [
    "def fact(n):\n",
    "    if(n==1):\n",
    "        return 1\n",
    "    elif(n<0):\n",
    "        print('no factorial')\n",
    "    else:\n",
    "        return n * fact(n-1)\n",
    "def npr(n,r):\n",
    "    return (fact(n)/fact(n-r))\n",
    "\n",
    "def ncr(n,r):\n",
    "    return (npr(n,r)/fact(r))\n",
    "\n",
    "print(npr(6,3))\n",
    "\n",
    "print(ncr(9,2))"
   ]
  },
  {
   "cell_type": "markdown",
   "metadata": {},
   "source": [
    "# 5. Write a function that converts a decimal number to binary number"
   ]
  },
  {
   "cell_type": "code",
   "execution_count": 16,
   "metadata": {},
   "outputs": [
    {
     "name": "stdout",
     "output_type": "stream",
     "text": [
      "[1, 0, 0, 0, 1]\n",
      "[1, 1, 1, 0, 0, 0]\n"
     ]
    }
   ],
   "source": [
    "def decimal_to_binary(n):\n",
    "    a=[]\n",
    "    while(n>1):\n",
    "        a.append(n%2)\n",
    "        n = n//2\n",
    "    a.append(1)\n",
    "    return a[::-1]\n",
    "\n",
    "print(decimal_to_binary(17))\n",
    "print(decimal_to_binary(56))\n",
    "        "
   ]
  },
  {
   "cell_type": "markdown",
   "metadata": {},
   "source": [
    "# 6. Write a function cubesum() that accepts an integer and returns the sum of the cubes of individual digits of that number. Use this function to make functions PrintArmstrong() and isArmstrong() to print Armstrong numbers and to find whether is an Armstrong number."
   ]
  },
  {
   "cell_type": "code",
   "execution_count": 17,
   "metadata": {},
   "outputs": [
    {
     "name": "stdout",
     "output_type": "stream",
     "text": [
      "153\n",
      "370\n",
      "371\n",
      "407\n",
      "123 is not an armstrong number\n",
      "153 is an armstrong number\n"
     ]
    }
   ],
   "source": [
    "def cubesum(n):\n",
    "    sum=0\n",
    "    while(n!=0):\n",
    "        sum = sum + ((n%10)**3)\n",
    "        n = n//10\n",
    "    return sum\n",
    "#since the question is explicitly asking to use the fucntion cubesum in other function, \n",
    "#only three digit armstrong numbers  are possible\n",
    "\n",
    "def PrintArmStrong(n):\n",
    "    for i in range(100,n):\n",
    "        if(cubesum(i)==i):\n",
    "            print(i)\n",
    "\n",
    "PrintArmStrong(1000)\n",
    "\n",
    "def isArmstrong(n):\n",
    "    if(cubesum(n)==n):\n",
    "        print(n,'is an armstrong number')\n",
    "    else:\n",
    "        print(n,'is not an armstrong number')\n",
    "        \n",
    "isArmstrong(123)\n",
    "isArmstrong(153)"
   ]
  },
  {
   "cell_type": "markdown",
   "metadata": {},
   "source": [
    "# 7. Write a function prodDigits() that inputs a number and returns the product of digits of that number."
   ]
  },
  {
   "cell_type": "code",
   "execution_count": 18,
   "metadata": {},
   "outputs": [
    {
     "data": {
      "text/plain": [
       "48"
      ]
     },
     "execution_count": 18,
     "metadata": {},
     "output_type": "execute_result"
    }
   ],
   "source": [
    "def prodDigits(n):\n",
    "    product= 1\n",
    "    while(n!=0):\n",
    "        product = product * (n%10)\n",
    "        n=n//10\n",
    "    return product\n",
    "\n",
    "prodDigits(86)"
   ]
  },
  {
   "cell_type": "markdown",
   "metadata": {},
   "source": [
    "# 8. If all digits of a number n are multiplied by each other repeating with the product, the one digit number obtained at last is called the multiplicative digital root of n. The number of times digits need to be multiplied to reach one digit is called the multiplicative persistance of n.\n",
    "Example: 86 -> 48 -> 32 -> 6 (MDR 6, MPersistence 3)\n",
    "                341 -> 12->2 (MDR 2, MPersistence 2)\n"
   ]
  },
  {
   "cell_type": "code",
   "execution_count": 19,
   "metadata": {},
   "outputs": [
    {
     "name": "stdout",
     "output_type": "stream",
     "text": [
      "6\n",
      "3\n"
     ]
    }
   ],
   "source": [
    "def MDR(n):\n",
    "    while(n>9):\n",
    "        n = prodDigits(n)\n",
    "    return n\n",
    "\n",
    "print(MDR(86))\n",
    "\n",
    "def MPersistence(n):\n",
    "    i=0\n",
    "    while(n>9):\n",
    "        n = prodDigits(n)\n",
    "        i= i+1\n",
    "    return i\n",
    "\n",
    "print(MPersistence(86))"
   ]
  },
  {
   "cell_type": "markdown",
   "metadata": {},
   "source": [
    "# 9. Write a function sumPdivisors() that finds the sum of proper divisors of a number. Proper divisors of a number are those numbers by which the number is divisible, except the number itself. For example proper divisors of 36 are 1, 2, 3, 4, 6, 9, 18"
   ]
  },
  {
   "cell_type": "code",
   "execution_count": 20,
   "metadata": {},
   "outputs": [
    {
     "name": "stdout",
     "output_type": "stream",
     "text": [
      "[1, 2, 3, 4, 6, 9, 12, 18]\n"
     ]
    },
    {
     "data": {
      "text/plain": [
       "55"
      ]
     },
     "execution_count": 20,
     "metadata": {},
     "output_type": "execute_result"
    }
   ],
   "source": [
    "def sumPdivisors(n):\n",
    "    a=[]\n",
    "    for i in range(1,n):\n",
    "        if(n%i==0):\n",
    "            a.append(i)\n",
    "    print(a)\n",
    "    return sum(a)\n",
    "\n",
    "sumPdivisors(36)"
   ]
  },
  {
   "cell_type": "markdown",
   "metadata": {},
   "source": [
    "# 10. A number is called perfect if the sum of proper divisors of that number is equal to the number. For example 28 is perfect number, since 1+2+4+7+14=28. Write a program to print all the perfect numbers in a given range\n"
   ]
  },
  {
   "cell_type": "code",
   "execution_count": 21,
   "metadata": {},
   "outputs": [
    {
     "name": "stdout",
     "output_type": "stream",
     "text": [
      "6\n",
      "28\n",
      "496\n"
     ]
    }
   ],
   "source": [
    "def perfect(n):\n",
    "    a=[]\n",
    "    for i in range(1,n):\n",
    "        if(n%i==0):\n",
    "            a.append(i)\n",
    "    return sum(a)\n",
    "\n",
    "def isperfect(n):\n",
    "    for i in range(1,n+1):\n",
    "        if(perfect(i)==i):\n",
    "            print(i)\n",
    "\n",
    "isperfect(1000)"
   ]
  },
  {
   "cell_type": "markdown",
   "metadata": {},
   "source": [
    "#  Two different numbers are called amicable numbers if the sum of the proper divisors of each is equal to the other number. For example 220 and 284 are amicable numbers.\n",
    "Sum of proper divisors of 220 = 1+2+4+5+10+11+20+22+44+55+110 = 284\n",
    "Sum of proper divisors of 284 = 1+2+4+71+142 = 220\n",
    "Write a function to print pairs of amicable numbers in a range"
   ]
  },
  {
   "cell_type": "code",
   "execution_count": 22,
   "metadata": {},
   "outputs": [
    {
     "name": "stdout",
     "output_type": "stream",
     "text": [
      "56 and 284 are not amicable numbers\n",
      "220 and 284 are amicable numbers\n"
     ]
    }
   ],
   "source": [
    "def Amicable(n):\n",
    "    a=[]\n",
    "    for i in range(1,n):\n",
    "        if(n%i==0):\n",
    "            a.append(i)\n",
    "    return a\n",
    "\n",
    "def isAmicable(x,y):\n",
    "    if(sum(Amicable(x))==y and sum(Amicable(y))==x):\n",
    "        \n",
    "        print(x,'and',y,'are amicable numbers')\n",
    "    else:\n",
    "        print(x,'and',y,'are not amicable numbers')\n",
    "\n",
    "\n",
    "\n",
    "isAmicable(56,284)\n",
    "isAmicable(220,284)"
   ]
  },
  {
   "cell_type": "markdown",
   "metadata": {},
   "source": [
    "# 12. Write a program which can filter odd numbers in a list by using filter function"
   ]
  },
  {
   "cell_type": "code",
   "execution_count": 23,
   "metadata": {},
   "outputs": [
    {
     "name": "stdout",
     "output_type": "stream",
     "text": [
      "[1, 3, 5, 7, 9]\n"
     ]
    }
   ],
   "source": [
    "a= [1,2,3,4,5,6,7,8,9]\n",
    "\n",
    "def fil(n):\n",
    "    if(n%2==0):\n",
    "        return False\n",
    "    else:\n",
    "        return True\n",
    "\n",
    "b =filter(fil,a)\n",
    "y = []\n",
    "for i in b:\n",
    "    y.append(i)\n",
    "    \n",
    "print(y)"
   ]
  },
  {
   "cell_type": "markdown",
   "metadata": {},
   "source": [
    "# 13. Write a program which can map() to make a list whose elements are cube of elements in a given list"
   ]
  },
  {
   "cell_type": "code",
   "execution_count": 24,
   "metadata": {},
   "outputs": [
    {
     "name": "stdout",
     "output_type": "stream",
     "text": [
      "[1, 8, 27, 64, 125, 216, 343, 512, 729]\n"
     ]
    }
   ],
   "source": [
    "a= [1,2,3,4,5,6,7,8,9]\n",
    "\n",
    "def cube(n):\n",
    "    return n**3\n",
    "\n",
    "c= map(cube,a)\n",
    "x = []\n",
    "for i in c:\n",
    "    x.append(i)\n",
    "\n",
    "print(x)"
   ]
  },
  {
   "cell_type": "markdown",
   "metadata": {},
   "source": [
    "# 14. Write a program which can map() and filter() to make a list whose elements are cube of even number in a given list"
   ]
  },
  {
   "cell_type": "code",
   "execution_count": 25,
   "metadata": {},
   "outputs": [
    {
     "name": "stdout",
     "output_type": "stream",
     "text": [
      "[1, 27, 125, 343, 729]\n"
     ]
    }
   ],
   "source": [
    "a= [1,2,3,4,5,6,7,8,9]\n",
    "\n",
    "def fil(n):\n",
    "    if(n%2==0):\n",
    "        return False\n",
    "    else:\n",
    "        return True\n",
    "\n",
    "def cube(n):\n",
    "    return n**3\n",
    "\n",
    "d = map(cube,filter(fil,a))\n",
    "\n",
    "z= []\n",
    "\n",
    "for i in d:\n",
    "    z.append(i)\n",
    "\n",
    "print(z)"
   ]
  }
 ],
 "metadata": {
  "kernelspec": {
   "display_name": "Python 3",
   "language": "python",
   "name": "python3"
  },
  "language_info": {
   "codemirror_mode": {
    "name": "ipython",
    "version": 3
   },
   "file_extension": ".py",
   "mimetype": "text/x-python",
   "name": "python",
   "nbconvert_exporter": "python",
   "pygments_lexer": "ipython3",
   "version": "3.6.5"
  }
 },
 "nbformat": 4,
 "nbformat_minor": 5
}
